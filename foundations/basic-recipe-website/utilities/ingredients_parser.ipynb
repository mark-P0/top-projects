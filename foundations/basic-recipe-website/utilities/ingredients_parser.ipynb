{
 "cells": [
  {
   "cell_type": "code",
   "execution_count": 14,
   "metadata": {},
   "outputs": [
    {
     "name": "stdout",
     "output_type": "stream",
     "text": [
      "<tr><td>2 tbsp.</td> <td>Canola oil</td></tr>\n",
      "<tr><td>6 cloves</td> <td>Garlic (crushed)</td></tr>\n",
      "<tr><td>1 pc.</td> <td>Onion (sliced)</td></tr>\n",
      "<tr><td>1 kg.</td> <td>Chicken (cut-ups)</td></tr>\n",
      "<tr><td>2 tbsp.</td> <td>Vinegar</td></tr>\n",
      "<tr><td>¼ cup</td> <td>Soy sauce</td></tr>\n",
      "<tr><td>1 cup</td> <td>Water</td></tr>\n",
      "<tr><td>2 pcs.</td> <td>Bay leaves</td></tr>\n",
      "<tr><td>1 tsp.</td> <td>Whole black peppercorns (slightly crushed)</td></tr>\n",
      "<tr><td>1 pc.</td> <td>Chicken broth cubes</td></tr>\n",
      "<tr><td>1 tsp.</td> <td>Brown sugar (packed)</td></tr>\n"
     ]
    },
    {
     "data": {
      "text/plain": [
       "['<tr><td>2 tbsp.</td> <td>Canola oil</td></tr>',\n",
       " '<tr><td>6 cloves</td> <td>Garlic (crushed)</td></tr>',\n",
       " '<tr><td>1 pc.</td> <td>Onion (sliced)</td></tr>',\n",
       " '<tr><td>1 kg.</td> <td>Chicken (cut-ups)</td></tr>',\n",
       " '<tr><td>2 tbsp.</td> <td>Vinegar</td></tr>',\n",
       " '<tr><td>¼ cup</td> <td>Soy sauce</td></tr>',\n",
       " '<tr><td>1 cup</td> <td>Water</td></tr>',\n",
       " '<tr><td>2 pcs.</td> <td>Bay leaves</td></tr>',\n",
       " '<tr><td>1 tsp.</td> <td>Whole black peppercorns (slightly crushed)</td></tr>',\n",
       " '<tr><td>1 pc.</td> <td>Chicken broth cubes</td></tr>',\n",
       " '<tr><td>1 tsp.</td> <td>Brown sugar (packed)</td></tr>']"
      ]
     },
     "execution_count": 14,
     "metadata": {},
     "output_type": "execute_result"
    }
   ],
   "source": [
    "INGREDIENTS = '''\n",
    "2 tbsp. | canola oil\n",
    "6 cloves | garlic (crushed)\n",
    "1 pc. | onion (sliced)\n",
    "1 kg. | chicken (cut-ups)\n",
    "2 tbsp. | vinegar\n",
    "¼ cup | soy sauce\n",
    "1 cup | water\n",
    "2 pcs. | bay leaves\n",
    "1 tsp. | whole black peppercorns (slightly crushed)\n",
    "1 pc. | chicken broth cubes\n",
    "1 tsp. | brown sugar (packed)\n",
    "'''.strip().split('\\n')\n",
    "\n",
    "## TODO: Use a single `for` loop?\n",
    "INGREDIENTS = [ingr.split(' | ') for ingr in INGREDIENTS]\n",
    "INGREDIENTS = [[qty, item.capitalize()] for qty, item in INGREDIENTS]\n",
    "INGREDIENTS = [' '.join(f'<td>{data}</td>' for data in ingr) for ingr in INGREDIENTS]\n",
    "INGREDIENTS = [f'<tr>{row}</tr>' for row in INGREDIENTS]\n",
    "\n",
    "print('\\n'.join(INGREDIENTS))\n",
    "INGREDIENTS"
   ]
  }
 ],
 "metadata": {
  "interpreter": {
   "hash": "3cc7452d59a4128c7da48b52ec3fb3fa0d01ea1f342cddc3c37340fefa791b1e"
  },
  "kernelspec": {
   "display_name": "Python 3.9.1 64-bit",
   "language": "python",
   "name": "python3"
  },
  "language_info": {
   "codemirror_mode": {
    "name": "ipython",
    "version": 3
   },
   "file_extension": ".py",
   "mimetype": "text/x-python",
   "name": "python",
   "nbconvert_exporter": "python",
   "pygments_lexer": "ipython3",
   "version": "3.9.1"
  },
  "orig_nbformat": 4
 },
 "nbformat": 4,
 "nbformat_minor": 2
}
